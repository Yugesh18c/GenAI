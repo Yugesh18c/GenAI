{
  "nbformat": 4,
  "nbformat_minor": 0,
  "metadata": {
    "colab": {
      "provenance": [],
      "authorship_tag": "ABX9TyM7hIsUyDZRUSOSuIHcj7/Q",
      "include_colab_link": true
    },
    "kernelspec": {
      "name": "python3",
      "display_name": "Python 3"
    },
    "language_info": {
      "name": "python"
    }
  },
  "cells": [
    {
      "cell_type": "markdown",
      "metadata": {
        "id": "view-in-github",
        "colab_type": "text"
      },
      "source": [
        "<a href=\"https://colab.research.google.com/github/Yugesh18c/GenAI/blob/main/TestGitColab_Combo2.ipynb\" target=\"_parent\"><img src=\"https://colab.research.google.com/assets/colab-badge.svg\" alt=\"Open In Colab\"/></a>"
      ]
    },
    {
      "cell_type": "code",
      "execution_count": null,
      "metadata": {
        "colab": {
          "base_uri": "https://localhost:8080/"
        },
        "id": "6MPnJAfzNWli",
        "outputId": "19d4615d-59c2-4336-aea9-025575522d33"
      },
      "outputs": [
        {
          "output_type": "stream",
          "name": "stdout",
          "text": [
            "Holla\n"
          ]
        }
      ],
      "source": [
        "print(\"Holla\")"
      ]
    },
    {
      "cell_type": "markdown",
      "source": [
        "#Holla Printing Test"
      ],
      "metadata": {
        "id": "a2SxC2MqNpYO"
      }
    },
    {
      "cell_type": "code",
      "source": [
        "print(\"test GIT Colab Integration\")"
      ],
      "metadata": {
        "colab": {
          "base_uri": "https://localhost:8080/"
        },
        "id": "rh94He2QOGW5",
        "outputId": "cfb1ef9d-b262-42eb-c262-31037e8d0681"
      },
      "execution_count": 1,
      "outputs": [
        {
          "output_type": "stream",
          "name": "stdout",
          "text": [
            "test GIT Colab Integration\n"
          ]
        }
      ]
    }
  ]
}